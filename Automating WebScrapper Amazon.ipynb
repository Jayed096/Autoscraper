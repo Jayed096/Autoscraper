{
 "cells": [
  {
   "cell_type": "code",
   "execution_count": 1,
   "metadata": {},
   "outputs": [
    {
     "name": "stdout",
     "output_type": "stream",
     "text": [
      "Requirement already satisfied: autoscraper in c:\\users\\admin\\anaconda3\\lib\\site-packages (1.1.12)\n",
      "Requirement already satisfied: bs4 in c:\\users\\admin\\anaconda3\\lib\\site-packages (from autoscraper) (0.0.1)\n",
      "Requirement already satisfied: lxml in c:\\users\\admin\\anaconda3\\lib\\site-packages (from autoscraper) (4.6.1)\n",
      "Requirement already satisfied: requests in c:\\users\\admin\\anaconda3\\lib\\site-packages (from autoscraper) (2.24.0)\n",
      "Requirement already satisfied: beautifulsoup4 in c:\\users\\admin\\anaconda3\\lib\\site-packages (from bs4->autoscraper) (4.9.3)\n",
      "Requirement already satisfied: idna<3,>=2.5 in c:\\users\\admin\\anaconda3\\lib\\site-packages (from requests->autoscraper) (2.10)\n",
      "Requirement already satisfied: certifi>=2017.4.17 in c:\\users\\admin\\anaconda3\\lib\\site-packages (from requests->autoscraper) (2020.6.20)\n",
      "Requirement already satisfied: chardet<4,>=3.0.2 in c:\\users\\admin\\anaconda3\\lib\\site-packages (from requests->autoscraper) (3.0.4)\n",
      "Requirement already satisfied: urllib3!=1.25.0,!=1.25.1,<1.26,>=1.21.1 in c:\\users\\admin\\anaconda3\\lib\\site-packages (from requests->autoscraper) (1.25.11)\n",
      "Requirement already satisfied: soupsieve>1.2; python_version >= \"3.0\" in c:\\users\\admin\\anaconda3\\lib\\site-packages (from beautifulsoup4->bs4->autoscraper) (2.0.1)\n",
      "Note: you may need to restart the kernel to use updated packages.\n"
     ]
    }
   ],
   "source": [
    "pip install autoscraper"
   ]
  },
  {
   "cell_type": "code",
   "execution_count": 2,
   "metadata": {},
   "outputs": [],
   "source": [
    "from autoscraper import AutoScraper\n",
    "import pandas as pd"
   ]
  },
  {
   "cell_type": "code",
   "execution_count": 3,
   "metadata": {},
   "outputs": [],
   "source": [
    "amazon_url = \"https://www.amazon.in/s?k=iphone\"\n",
    "\n",
    "wanted_list = [\"New Apple iPhone 11 (128GB) - White\",\"₹59,900\",\"25,651\",\"https://m.media-amazon.com/images/I/71QE00iB9IL._AC_UY218_.jpg\"]"
   ]
  },
  {
   "cell_type": "code",
   "execution_count": 5,
   "metadata": {},
   "outputs": [
    {
     "name": "stdout",
     "output_type": "stream",
     "text": [
      "['New Apple iPhone 12 (128GB) - Blue', 'New Apple iPhone 12 Pro Max (128GB) - Pacific Blue', 'New Apple iPhone 12 (64GB) - Blue', 'New Apple iPhone 11 (128GB) - Black', 'New Apple iPhone 12 Mini (64GB) - Black', 'New Apple iPhone 11 (128GB) - White', 'New Apple iPhone 12 Mini (64GB) - Blue', 'New Apple iPhone 12 Mini (64GB) - White', 'New Apple iPhone 11 (128GB) - Green', 'New Apple iPhone 11 (64GB) - Green', 'New Apple iPhone 12 (64GB) - Black', 'New Apple iPhone 12 (128GB) - White', 'New Apple iPhone 12 (64GB) - White', 'New Apple iPhone 12 Mini (128GB) - Green', 'New Apple iPhone 12 (128GB) - Black', 'OnePlus Nord 5G (Blue Marble, 12GB RAM, 256GB Storage)', '₹80,900', '₹84,900', '₹1,29,900', '₹75,900', '₹79,900', '₹59,900', '₹61,900', '₹69,900', '₹60,900', '₹54,900', '₹65,900', '₹74,900', '₹29,999', '2,041', '554', '25,651', '3,271', '66,470', 'https://m.media-amazon.com/images/I/71ZOtNdaZCL._AC_UY218_.jpg', 'https://m.media-amazon.com/images/I/71MHTD3uL4L._AC_UY218_.jpg', 'https://m.media-amazon.com/images/I/71i2XhHU3pL._AC_UY218_.jpg', 'https://m.media-amazon.com/images/I/71uuDYxn3XL._AC_UY218_.jpg', 'https://m.media-amazon.com/images/I/71QE00iB9IL._AC_UY218_.jpg', 'https://m.media-amazon.com/images/I/71sNNCTfMuL._AC_UY218_.jpg', 'https://m.media-amazon.com/images/I/71tT8J5cKuL._AC_UY218_.jpg', 'https://m.media-amazon.com/images/I/71w3oJ7aWyL._AC_UY218_.jpg', 'https://m.media-amazon.com/images/I/71fVoqRC0wL._AC_UY218_.jpg', 'https://m.media-amazon.com/images/I/711wsjBtWeL._AC_UY218_.jpg', 'https://m.media-amazon.com/images/I/71i+-WmxHWL._AC_UY218_.jpg', 'https://m.media-amazon.com/images/I/71Lx9l3NivL._AC_UY218_.jpg']\n"
     ]
    }
   ],
   "source": [
    "scraper = AutoScraper()\n",
    "result = scraper.build(amazon_url,wanted_list)\n",
    "print(result)"
   ]
  },
  {
   "cell_type": "code",
   "execution_count": 6,
   "metadata": {},
   "outputs": [],
   "source": [
    "data = scraper.get_result_similar(amazon_url, grouped = True)"
   ]
  },
  {
   "cell_type": "code",
   "execution_count": 7,
   "metadata": {},
   "outputs": [
    {
     "name": "stdout",
     "output_type": "stream",
     "text": [
      "{'rule_uuv0': ['New Apple iPhone 12 Pro Max (128GB) - Pacific Blue', 'New Apple iPhone 11 (128GB) - Black', 'New Apple iPhone 12 (128GB) - Blue', 'Apple iPhone 11 Pro Max (256GB) - Midnight Green', 'New Apple iPhone 11 (64GB) - Green', 'New Apple iPhone 12 Mini (64GB) - Black', 'New Apple iPhone 12 (64GB) - Blue', 'New Apple iPhone 12 Mini (128GB) - Green', 'New Apple iPhone 12 Pro Max (256GB) - Graphite', 'New Apple iPhone 11 (128GB) - Green', 'Apple iPhone 11 Pro Max (256GB) - Gold', 'New Apple iPhone 12 Mini (64GB) - Blue', 'New Apple iPhone 12 (64GB) - Black', 'Apple iPhone 11 Pro (256GB) - Silver', 'New Apple iPhone 12 Pro Max (512GB) - Gold', 'New Apple iPhone 11 (128GB) - White'], 'rule_g3d9': ['New Apple iPhone 12 Pro Max (128GB) - Pacific Blue', 'New Apple iPhone 11 (128GB) - Black', 'New Apple iPhone 12 (128GB) - Blue', 'Apple iPhone 11 Pro Max (256GB) - Midnight Green', 'New Apple iPhone 11 (64GB) - Green', 'New Apple iPhone 12 Mini (64GB) - Black', 'New Apple iPhone 12 (64GB) - Blue', 'New Apple iPhone 12 Mini (128GB) - Green', 'New Apple iPhone 12 Pro Max (256GB) - Graphite', 'New Apple iPhone 11 (128GB) - Green', 'Apple iPhone 11 Pro Max (256GB) - Gold', 'New Apple iPhone 12 Mini (64GB) - Blue', 'New Apple iPhone 12 (64GB) - Black', 'Apple iPhone 11 Pro (256GB) - Silver', 'New Apple iPhone 12 Pro Max (512GB) - Gold', 'New Apple iPhone 11 (128GB) - White'], 'rule_lkir': ['₹1,29,900', '₹59,900', '₹80,900', '₹84,900', '₹92,900', '₹1,23,900', '₹54,900', '₹61,900', '₹69,900', '₹75,900', '₹79,900', '₹65,900', '₹74,900', '₹1,35,900', '₹1,39,900', '₹59,900', '₹92,900', '₹1,31,900', '₹61,900', '₹69,900', '₹75,900', '₹79,900', '₹86,900', '₹1,21,300', '₹1,59,899', '₹1,59,900', '₹59,900'], 'rule_2gpb': ['₹1,29,900', '₹59,900', '₹80,900', '₹84,900', '₹92,900', '₹1,23,900', '₹54,900', '₹61,900', '₹69,900', '₹75,900', '₹79,900', '₹65,900', '₹74,900', '₹1,35,900', '₹1,39,900', '₹59,900', '₹92,900', '₹1,31,900', '₹61,900', '₹69,900', '₹75,900', '₹79,900', '₹86,900', '₹1,21,300', '₹1,59,899', '₹1,59,900', '₹59,900'], 'rule_27sc': ['₹1,29,900', '₹59,900', '₹80,900', '₹84,900', '₹92,900', '₹1,23,900', '₹54,900', '₹61,900', '₹69,900', '₹75,900', '₹79,900', '₹65,900', '₹74,900', '₹1,35,900', '₹1,39,900', '₹59,900', '₹92,900', '₹1,31,900', '₹61,900', '₹69,900', '₹75,900', '₹79,900', '₹86,900', '₹1,21,300', '₹1,59,899', '₹1,59,900', '₹59,900'], 'rule_gafh': ['₹1,29,900', '₹59,900', '₹80,900', '₹84,900', '₹92,900', '₹1,23,900', '₹54,900', '₹61,900', '₹69,900', '₹75,900', '₹79,900', '₹65,900', '₹74,900', '₹1,35,900', '₹1,39,900', '₹59,900', '₹92,900', '₹1,31,900', '₹61,900', '₹69,900', '₹75,900', '₹79,900', '₹86,900', '₹1,21,300', '₹1,59,899', '₹1,59,900', '₹59,900'], 'rule_xgpd': ['₹1,29,900', '₹59,900', '₹80,900', '₹84,900', '₹92,900', '₹1,23,900', '₹54,900', '₹61,900', '₹69,900', '₹75,900', '₹79,900', '₹65,900', '₹74,900', '₹1,35,900', '₹1,39,900', '₹59,900', '₹92,900', '₹1,31,900', '₹61,900', '₹69,900', '₹75,900', '₹79,900', '₹86,900', '₹1,21,300', '₹1,59,899', '₹1,59,900', '₹59,900'], 'rule_ro91': ['₹1,29,900', '₹59,900', '₹80,900', '₹84,900', '₹92,900', '₹1,23,900', '₹54,900', '₹61,900', '₹69,900', '₹75,900', '₹79,900', '₹65,900', '₹74,900', '₹1,35,900', '₹1,39,900', '₹59,900', '₹92,900', '₹1,31,900', '₹61,900', '₹69,900', '₹75,900', '₹79,900', '₹86,900', '₹1,21,300', '₹1,59,899', '₹1,59,900', '₹59,900'], 'rule_nkza': ['554', '25,651', '2,041', '798', '25,651', '3,271', '2,041', '3,271', '554', '25,651', '798', '3,271', '2,041', '921', '554', '25,651'], 'rule_alnn': ['554', '25,651', '2,041', '798', '25,651', '3,271', '2,041', '3,271', '554', '25,651', '798', '3,271', '2,041', '921', '554', '25,651'], 'rule_lw5k': ['554', '25,651', '2,041', '798', '25,651', '3,271', '2,041', '3,271', '554', '25,651', '798', '3,271', '2,041', '921', '554', '25,651'], 'rule_yrhp': ['554', '25,651', '2,041', '798', '25,651', '3,271', '2,041', '3,271', '554', '25,651', '798', '3,271', '2,041', '921', '554', '25,651'], 'rule_bxhg': ['https://m.media-amazon.com/images/I/71MHTD3uL4L._AC_UY218_.jpg', 'https://m.media-amazon.com/images/I/71i2XhHU3pL._AC_UY218_.jpg', 'https://m.media-amazon.com/images/I/71ZOtNdaZCL._AC_UY218_.jpg', 'https://m.media-amazon.com/images/I/61ers6OzvUL._AC_UY218_.jpg', 'https://m.media-amazon.com/images/I/71w3oJ7aWyL._AC_UY218_.jpg', 'https://m.media-amazon.com/images/I/71uuDYxn3XL._AC_UY218_.jpg', 'https://m.media-amazon.com/images/I/71ZOtNdaZCL._AC_UY218_.jpg', 'https://m.media-amazon.com/images/I/71i+-WmxHWL._AC_UY218_.jpg', 'https://m.media-amazon.com/images/I/71XXJC7V8tL._AC_UY218_.jpg', 'https://m.media-amazon.com/images/I/71w3oJ7aWyL._AC_UY218_.jpg', 'https://m.media-amazon.com/images/I/611JavcU70L._AC_UY218_.jpg', 'https://m.media-amazon.com/images/I/71sNNCTfMuL._AC_UY218_.jpg', 'https://m.media-amazon.com/images/I/71fVoqRC0wL._AC_UY218_.jpg', 'https://m.media-amazon.com/images/I/61VK5q8L-oL._AC_UY218_.jpg', 'https://m.media-amazon.com/images/I/71fJ-gmBZtL._AC_UY218_.jpg', 'https://m.media-amazon.com/images/I/71QE00iB9IL._AC_UY218_.jpg']}\n"
     ]
    }
   ],
   "source": [
    "print(data)"
   ]
  },
  {
   "cell_type": "code",
   "execution_count": 8,
   "metadata": {},
   "outputs": [
    {
     "name": "stdout",
     "output_type": "stream",
     "text": [
      "['rule_uuv0', 'rule_g3d9', 'rule_lkir', 'rule_2gpb', 'rule_27sc', 'rule_gafh', 'rule_xgpd', 'rule_ro91', 'rule_nkza', 'rule_alnn', 'rule_lw5k', 'rule_yrhp', 'rule_bxhg']\n"
     ]
    }
   ],
   "source": [
    "keys = list(data.keys())\n",
    "print(keys)"
   ]
  },
  {
   "cell_type": "code",
   "execution_count": 9,
   "metadata": {},
   "outputs": [],
   "source": [
    "scraper.set_rule_aliases({str(keys[-1]):'ImageUrl',str(keys[0]):'Title',str(keys[2]):'Price',str(keys[-5]):'Reviews'})"
   ]
  },
  {
   "cell_type": "code",
   "execution_count": 10,
   "metadata": {},
   "outputs": [],
   "source": [
    "scraper.save(\"amazon_in.json\")"
   ]
  },
  {
   "cell_type": "code",
   "execution_count": 11,
   "metadata": {},
   "outputs": [],
   "source": [
    "amazon_scraper = AutoScraper()\n",
    "amazon_scraper.load('amazon_in.json')"
   ]
  },
  {
   "cell_type": "code",
   "execution_count": 12,
   "metadata": {},
   "outputs": [],
   "source": [
    "search = \"samsung phones\"\n",
    "amazon_url=\"https://www.amazon.in/s?k=sumsung+phone\"\n",
    "\n",
    "data = amazon_scraper.get_result_similar(amazon_url, group_by_alias=True)\n",
    "search_data = tuple(zip(data['Title'],data['ImageUrl'],data['Price'],data['Reviews']))"
   ]
  },
  {
   "cell_type": "code",
   "execution_count": 13,
   "metadata": {},
   "outputs": [],
   "source": [
    "df = pd.DataFrame(columns=['Query','Title','Price','Reviews','ImageUrl'])\n",
    "for i in range(len(search_data)):\n",
    "    df.loc[len(df)] = [search,search_data[i][0],search_data[i][2],search_data[i][3],search_data[i][1]]"
   ]
  },
  {
   "cell_type": "code",
   "execution_count": 14,
   "metadata": {},
   "outputs": [
    {
     "name": "stdout",
     "output_type": "stream",
     "text": [
      "(16, 5)\n"
     ]
    },
    {
     "data": {
      "text/html": [
       "<div>\n",
       "<style scoped>\n",
       "    .dataframe tbody tr th:only-of-type {\n",
       "        vertical-align: middle;\n",
       "    }\n",
       "\n",
       "    .dataframe tbody tr th {\n",
       "        vertical-align: top;\n",
       "    }\n",
       "\n",
       "    .dataframe thead th {\n",
       "        text-align: right;\n",
       "    }\n",
       "</style>\n",
       "<table border=\"1\" class=\"dataframe\">\n",
       "  <thead>\n",
       "    <tr style=\"text-align: right;\">\n",
       "      <th></th>\n",
       "      <th>Query</th>\n",
       "      <th>Title</th>\n",
       "      <th>Price</th>\n",
       "      <th>Reviews</th>\n",
       "      <th>ImageUrl</th>\n",
       "    </tr>\n",
       "  </thead>\n",
       "  <tbody>\n",
       "    <tr>\n",
       "      <th>0</th>\n",
       "      <td>samsung phones</td>\n",
       "      <td>Samsung Galaxy M31 (Ocean Blue, 6GB RAM, 128GB...</td>\n",
       "      <td>₹14,999</td>\n",
       "      <td>178,084</td>\n",
       "      <td>https://m.media-amazon.com/images/I/71-Su4Wr0H...</td>\n",
       "    </tr>\n",
       "    <tr>\n",
       "      <th>1</th>\n",
       "      <td>samsung phones</td>\n",
       "      <td>Samsung Galaxy M31 (Space Black, 6GB RAM, 128G...</td>\n",
       "      <td>₹19,999</td>\n",
       "      <td>178,084</td>\n",
       "      <td>https://m.media-amazon.com/images/I/71OxJeyywS...</td>\n",
       "    </tr>\n",
       "    <tr>\n",
       "      <th>2</th>\n",
       "      <td>samsung phones</td>\n",
       "      <td>Samsung Galaxy M12 (Blue,4GB RAM, 64GB Storage...</td>\n",
       "      <td>₹14,999</td>\n",
       "      <td>10,191</td>\n",
       "      <td>https://m.media-amazon.com/images/I/71yYaNztZ0...</td>\n",
       "    </tr>\n",
       "    <tr>\n",
       "      <th>3</th>\n",
       "      <td>samsung phones</td>\n",
       "      <td>Samsung Galaxy M21 (Midnight Blue, 4GB RAM, 64...</td>\n",
       "      <td>₹19,999</td>\n",
       "      <td>127,509</td>\n",
       "      <td>https://m.media-amazon.com/images/I/71dujTTJDZ...</td>\n",
       "    </tr>\n",
       "    <tr>\n",
       "      <th>4</th>\n",
       "      <td>samsung phones</td>\n",
       "      <td>Samsung Galaxy M21 (Raven Black, 4GB RAM, 64GB...</td>\n",
       "      <td>₹10,999</td>\n",
       "      <td>127,509</td>\n",
       "      <td>https://m.media-amazon.com/images/I/71QLvGIAq5...</td>\n",
       "    </tr>\n",
       "    <tr>\n",
       "      <th>5</th>\n",
       "      <td>samsung phones</td>\n",
       "      <td>Samsung Galaxy M01 Core (Black, 2GB RAM, 32GB ...</td>\n",
       "      <td>₹12,999</td>\n",
       "      <td>17,938</td>\n",
       "      <td>https://m.media-amazon.com/images/I/71AYb2AGHX...</td>\n",
       "    </tr>\n",
       "    <tr>\n",
       "      <th>6</th>\n",
       "      <td>samsung phones</td>\n",
       "      <td>Samsung Galaxy M31s (Mirage Blue, 6GB RAM, 128...</td>\n",
       "      <td>₹12,499</td>\n",
       "      <td>63,331</td>\n",
       "      <td>https://m.media-amazon.com/images/I/61d-phh4Gf...</td>\n",
       "    </tr>\n",
       "    <tr>\n",
       "      <th>7</th>\n",
       "      <td>samsung phones</td>\n",
       "      <td>Samsung Galaxy M11 (Metallic Blue, 4GB RAM, 64...</td>\n",
       "      <td>₹15,999</td>\n",
       "      <td>1,247</td>\n",
       "      <td>https://m.media-amazon.com/images/I/71hqi389rc...</td>\n",
       "    </tr>\n",
       "    <tr>\n",
       "      <th>8</th>\n",
       "      <td>samsung phones</td>\n",
       "      <td>Samsung Galaxy M02s (Black,4GB RAM, 64GB Stora...</td>\n",
       "      <td>₹12,499</td>\n",
       "      <td>8,302</td>\n",
       "      <td>https://m.media-amazon.com/images/I/71IkA3T7hI...</td>\n",
       "    </tr>\n",
       "    <tr>\n",
       "      <th>9</th>\n",
       "      <td>samsung phones</td>\n",
       "      <td>Samsung Galaxy M31 (Iceberg Blue, 6GB RAM, 128...</td>\n",
       "      <td>₹13,999</td>\n",
       "      <td>178,084</td>\n",
       "      <td>https://m.media-amazon.com/images/I/71ZsMOcpeP...</td>\n",
       "    </tr>\n",
       "    <tr>\n",
       "      <th>10</th>\n",
       "      <td>samsung phones</td>\n",
       "      <td>Samsung Galaxy M12 (White,4GB RAM, 64GB Storag...</td>\n",
       "      <td>₹6,199</td>\n",
       "      <td>10,191</td>\n",
       "      <td>https://m.media-amazon.com/images/I/71PVpFc7Fw...</td>\n",
       "    </tr>\n",
       "    <tr>\n",
       "      <th>11</th>\n",
       "      <td>samsung phones</td>\n",
       "      <td>Samsung Galaxy M12 (Black,4GB RAM, 64GB Storag...</td>\n",
       "      <td>₹8,499</td>\n",
       "      <td>10,191</td>\n",
       "      <td>https://m.media-amazon.com/images/I/714QWDxXgN...</td>\n",
       "    </tr>\n",
       "    <tr>\n",
       "      <th>12</th>\n",
       "      <td>samsung phones</td>\n",
       "      <td>Samsung Galaxy M31s (Mirage Blue, 8GB RAM, 128...</td>\n",
       "      <td>₹18,499</td>\n",
       "      <td>63,331</td>\n",
       "      <td>https://m.media-amazon.com/images/I/61d-phh4Gf...</td>\n",
       "    </tr>\n",
       "    <tr>\n",
       "      <th>13</th>\n",
       "      <td>samsung phones</td>\n",
       "      <td>Samsung Galaxy M31 (Ocean Blue, 8GB RAM, 128GB...</td>\n",
       "      <td>₹22,999</td>\n",
       "      <td>178,084</td>\n",
       "      <td>https://m.media-amazon.com/images/I/71-Su4Wr0H...</td>\n",
       "    </tr>\n",
       "    <tr>\n",
       "      <th>14</th>\n",
       "      <td>samsung phones</td>\n",
       "      <td>Samsung Galaxy M02 (Red,2GB RAM, 32GB Storage)</td>\n",
       "      <td>₹8,999</td>\n",
       "      <td>7,024</td>\n",
       "      <td>https://m.media-amazon.com/images/I/71RIdIqDkj...</td>\n",
       "    </tr>\n",
       "    <tr>\n",
       "      <th>15</th>\n",
       "      <td>samsung phones</td>\n",
       "      <td>Samsung Galaxy M11 (Black, 4GB RAM, 64GB Stora...</td>\n",
       "      <td>₹14,999</td>\n",
       "      <td>1,193</td>\n",
       "      <td>https://m.media-amazon.com/images/I/71K413NPv9...</td>\n",
       "    </tr>\n",
       "  </tbody>\n",
       "</table>\n",
       "</div>"
      ],
      "text/plain": [
       "             Query                                              Title  \\\n",
       "0   samsung phones  Samsung Galaxy M31 (Ocean Blue, 6GB RAM, 128GB...   \n",
       "1   samsung phones  Samsung Galaxy M31 (Space Black, 6GB RAM, 128G...   \n",
       "2   samsung phones  Samsung Galaxy M12 (Blue,4GB RAM, 64GB Storage...   \n",
       "3   samsung phones  Samsung Galaxy M21 (Midnight Blue, 4GB RAM, 64...   \n",
       "4   samsung phones  Samsung Galaxy M21 (Raven Black, 4GB RAM, 64GB...   \n",
       "5   samsung phones  Samsung Galaxy M01 Core (Black, 2GB RAM, 32GB ...   \n",
       "6   samsung phones  Samsung Galaxy M31s (Mirage Blue, 6GB RAM, 128...   \n",
       "7   samsung phones  Samsung Galaxy M11 (Metallic Blue, 4GB RAM, 64...   \n",
       "8   samsung phones  Samsung Galaxy M02s (Black,4GB RAM, 64GB Stora...   \n",
       "9   samsung phones  Samsung Galaxy M31 (Iceberg Blue, 6GB RAM, 128...   \n",
       "10  samsung phones  Samsung Galaxy M12 (White,4GB RAM, 64GB Storag...   \n",
       "11  samsung phones  Samsung Galaxy M12 (Black,4GB RAM, 64GB Storag...   \n",
       "12  samsung phones  Samsung Galaxy M31s (Mirage Blue, 8GB RAM, 128...   \n",
       "13  samsung phones  Samsung Galaxy M31 (Ocean Blue, 8GB RAM, 128GB...   \n",
       "14  samsung phones     Samsung Galaxy M02 (Red,2GB RAM, 32GB Storage)   \n",
       "15  samsung phones  Samsung Galaxy M11 (Black, 4GB RAM, 64GB Stora...   \n",
       "\n",
       "      Price  Reviews                                           ImageUrl  \n",
       "0   ₹14,999  178,084  https://m.media-amazon.com/images/I/71-Su4Wr0H...  \n",
       "1   ₹19,999  178,084  https://m.media-amazon.com/images/I/71OxJeyywS...  \n",
       "2   ₹14,999   10,191  https://m.media-amazon.com/images/I/71yYaNztZ0...  \n",
       "3   ₹19,999  127,509  https://m.media-amazon.com/images/I/71dujTTJDZ...  \n",
       "4   ₹10,999  127,509  https://m.media-amazon.com/images/I/71QLvGIAq5...  \n",
       "5   ₹12,999   17,938  https://m.media-amazon.com/images/I/71AYb2AGHX...  \n",
       "6   ₹12,499   63,331  https://m.media-amazon.com/images/I/61d-phh4Gf...  \n",
       "7   ₹15,999    1,247  https://m.media-amazon.com/images/I/71hqi389rc...  \n",
       "8   ₹12,499    8,302  https://m.media-amazon.com/images/I/71IkA3T7hI...  \n",
       "9   ₹13,999  178,084  https://m.media-amazon.com/images/I/71ZsMOcpeP...  \n",
       "10   ₹6,199   10,191  https://m.media-amazon.com/images/I/71PVpFc7Fw...  \n",
       "11   ₹8,499   10,191  https://m.media-amazon.com/images/I/714QWDxXgN...  \n",
       "12  ₹18,499   63,331  https://m.media-amazon.com/images/I/61d-phh4Gf...  \n",
       "13  ₹22,999  178,084  https://m.media-amazon.com/images/I/71-Su4Wr0H...  \n",
       "14   ₹8,999    7,024  https://m.media-amazon.com/images/I/71RIdIqDkj...  \n",
       "15  ₹14,999    1,193  https://m.media-amazon.com/images/I/71K413NPv9...  "
      ]
     },
     "execution_count": 14,
     "metadata": {},
     "output_type": "execute_result"
    }
   ],
   "source": [
    "print(df.shape)\n",
    "df"
   ]
  },
  {
   "cell_type": "code",
   "execution_count": null,
   "metadata": {},
   "outputs": [],
   "source": []
  }
 ],
 "metadata": {
  "kernelspec": {
   "display_name": "Python 3",
   "language": "python",
   "name": "python3"
  },
  "language_info": {
   "codemirror_mode": {
    "name": "ipython",
    "version": 3
   },
   "file_extension": ".py",
   "mimetype": "text/x-python",
   "name": "python",
   "nbconvert_exporter": "python",
   "pygments_lexer": "ipython3",
   "version": "3.8.5"
  }
 },
 "nbformat": 4,
 "nbformat_minor": 4
}
